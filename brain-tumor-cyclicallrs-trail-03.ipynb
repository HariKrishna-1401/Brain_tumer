{
 "cells": [
  {
   "cell_type": "code",
   "execution_count": 1,
   "id": "5d07e963",
   "metadata": {
    "_cell_guid": "b1076dfc-b9ad-4769-8c92-a6c4dae69d19",
    "_uuid": "8f2839f25d086af736a60e9eeb907d3b93b6e0e5",
    "execution": {
     "iopub.execute_input": "2025-05-05T20:55:54.634219Z",
     "iopub.status.busy": "2025-05-05T20:55:54.633968Z",
     "iopub.status.idle": "2025-05-05T20:56:08.248886Z",
     "shell.execute_reply": "2025-05-05T20:56:08.248276Z"
    },
    "papermill": {
     "duration": 13.619179,
     "end_time": "2025-05-05T20:56:08.250257",
     "exception": false,
     "start_time": "2025-05-05T20:55:54.631078",
     "status": "completed"
    },
    "tags": []
   },
   "outputs": [
    {
     "name": "stderr",
     "output_type": "stream",
     "text": [
      "2025-05-05 20:55:56.054121: E external/local_xla/xla/stream_executor/cuda/cuda_fft.cc:477] Unable to register cuFFT factory: Attempting to register factory for plugin cuFFT when one has already been registered\n",
      "WARNING: All log messages before absl::InitializeLog() is called are written to STDERR\n",
      "E0000 00:00:1746478556.254279      18 cuda_dnn.cc:8310] Unable to register cuDNN factory: Attempting to register factory for plugin cuDNN when one has already been registered\n",
      "E0000 00:00:1746478556.309037      18 cuda_blas.cc:1418] Unable to register cuBLAS factory: Attempting to register factory for plugin cuBLAS when one has already been registered\n"
     ]
    }
   ],
   "source": [
    "import tensorflow as tf\n",
    "import matplotlib.pyplot as plt"
   ]
  },
  {
   "cell_type": "code",
   "execution_count": 2,
   "id": "8051aa7d",
   "metadata": {
    "execution": {
     "iopub.execute_input": "2025-05-05T20:56:08.254416Z",
     "iopub.status.busy": "2025-05-05T20:56:08.253997Z",
     "iopub.status.idle": "2025-05-05T20:56:12.030114Z",
     "shell.execute_reply": "2025-05-05T20:56:12.029355Z"
    },
    "papermill": {
     "duration": 3.779443,
     "end_time": "2025-05-05T20:56:12.031590",
     "exception": false,
     "start_time": "2025-05-05T20:56:08.252147",
     "status": "completed"
    },
    "tags": []
   },
   "outputs": [
    {
     "name": "stdout",
     "output_type": "stream",
     "text": [
      "Found 5712 images belonging to 4 classes.\n",
      "Found 1311 images belonging to 4 classes.\n"
     ]
    }
   ],
   "source": [
    "data_gen = tf.keras.preprocessing.image.ImageDataGenerator(\n",
    "    rotation_range=30,\n",
    "    shear_range=0.2,\n",
    "    zoom_range=0.2,\n",
    "    rescale=1/255.0,\n",
    "    fill_mode='nearest',\n",
    "    width_shift_range=0.2,\n",
    "    height_shift_range=0.2,\n",
    "    horizontal_flip=True,  \n",
    "    brightness_range=[0.8, 1.2],\n",
    "    vertical_flip=False,\n",
    ")\n",
    "\n",
    "val_gen = tf.keras.preprocessing.image.ImageDataGenerator(\n",
    "    rescale=1/255.0,\n",
    ")\n",
    "\n",
    "train_gen = data_gen.flow_from_directory(\n",
    "    directory=\"/kaggle/input/brain-tumor-mri-dataset/Training\",\n",
    "    target_size = (224,224),\n",
    "    class_mode='categorical',\n",
    "    batch_size=32,\n",
    "    shuffle=True,\n",
    "    color_mode='rgb',\n",
    ")\n",
    "\n",
    "test_gen = val_gen.flow_from_directory(\n",
    "    directory = \"/kaggle/input/brain-tumor-mri-dataset/Testing\",\n",
    "    target_size = (224,224),\n",
    "    class_mode='categorical',\n",
    "    batch_size=32,\n",
    "    shuffle=True,\n",
    "    color_mode='rgb',\n",
    ")"
   ]
  },
  {
   "cell_type": "code",
   "execution_count": 3,
   "id": "17e88b84",
   "metadata": {
    "execution": {
     "iopub.execute_input": "2025-05-05T20:56:12.040887Z",
     "iopub.status.busy": "2025-05-05T20:56:12.040647Z",
     "iopub.status.idle": "2025-05-05T21:11:28.815169Z",
     "shell.execute_reply": "2025-05-05T21:11:28.814441Z"
    },
    "papermill": {
     "duration": 916.778197,
     "end_time": "2025-05-05T21:11:28.816460",
     "exception": false,
     "start_time": "2025-05-05T20:56:12.038263",
     "status": "completed"
    },
    "tags": []
   },
   "outputs": [
    {
     "name": "stderr",
     "output_type": "stream",
     "text": [
      "I0000 00:00:1746478573.188585      18 gpu_device.cc:2022] Created device /job:localhost/replica:0/task:0/device:GPU:0 with 15513 MB memory:  -> device: 0, name: Tesla P100-PCIE-16GB, pci bus id: 0000:00:04.0, compute capability: 6.0\n"
     ]
    },
    {
     "name": "stdout",
     "output_type": "stream",
     "text": [
      "Downloading data from https://storage.googleapis.com/tensorflow/keras-applications/densenet/densenet121_weights_tf_dim_ordering_tf_kernels_notop.h5\n",
      "\u001b[1m29084464/29084464\u001b[0m \u001b[32m━━━━━━━━━━━━━━━━━━━━\u001b[0m\u001b[37m\u001b[0m \u001b[1m2s\u001b[0m 0us/step\n",
      "Epoch 1/10\n"
     ]
    },
    {
     "name": "stderr",
     "output_type": "stream",
     "text": [
      "/usr/local/lib/python3.11/dist-packages/keras/src/ops/nn.py:545: UserWarning: You are using a softmax over axis 3 of a tensor of shape (None, 8, 1, 1). This axis has size 1. The softmax operation will always return the value 1, which is likely not what you intended. Did you mean to use a sigmoid instead?\n",
      "  warnings.warn(\n",
      "/usr/local/lib/python3.11/dist-packages/keras/src/trainers/data_adapters/py_dataset_adapter.py:122: UserWarning: Your `PyDataset` class should call `super().__init__(**kwargs)` in its constructor. `**kwargs` can include `workers`, `use_multiprocessing`, `max_queue_size`. Do not pass these arguments to `fit()`, as they will be ignored.\n",
      "  self._warn_if_super_not_called()\n",
      "WARNING: All log messages before absl::InitializeLog() is called are written to STDERR\n",
      "I0000 00:00:1746478613.692495      73 service.cc:148] XLA service 0x7df4e0002240 initialized for platform CUDA (this does not guarantee that XLA will be used). Devices:\n",
      "I0000 00:00:1746478613.693427      73 service.cc:156]   StreamExecutor device (0): Tesla P100-PCIE-16GB, Compute Capability 6.0\n",
      "I0000 00:00:1746478617.853314      73 cuda_dnn.cc:529] Loaded cuDNN version 90300\n"
     ]
    },
    {
     "name": "stdout",
     "output_type": "stream",
     "text": [
      "\u001b[1m  2/179\u001b[0m \u001b[37m━━━━━━━━━━━━━━━━━━━━\u001b[0m \u001b[1m11s\u001b[0m 63ms/step - accuracy: 0.1797 - loss: 1.7593 - precision: 0.2386 - recall: 0.0859   "
     ]
    },
    {
     "name": "stderr",
     "output_type": "stream",
     "text": [
      "I0000 00:00:1746478634.819466      73 device_compiler.h:188] Compiled cluster using XLA!  This line is logged at most once for the lifetime of the process.\n"
     ]
    },
    {
     "name": "stdout",
     "output_type": "stream",
     "text": [
      "\u001b[1m179/179\u001b[0m \u001b[32m━━━━━━━━━━━━━━━━━━━━\u001b[0m\u001b[37m\u001b[0m \u001b[1m200s\u001b[0m 818ms/step - accuracy: 0.3797 - loss: 1.4183 - precision: 0.4460 - recall: 0.2269 - val_accuracy: 0.7765 - val_loss: 0.5772 - val_precision: 0.8188 - val_recall: 0.7445\n",
      "Epoch 2/10\n",
      "\u001b[1m179/179\u001b[0m \u001b[32m━━━━━━━━━━━━━━━━━━━━\u001b[0m\u001b[37m\u001b[0m \u001b[1m79s\u001b[0m 423ms/step - accuracy: 0.7302 - loss: 0.7056 - precision: 0.8204 - recall: 0.6116 - val_accuracy: 0.8261 - val_loss: 0.4809 - val_precision: 0.8498 - val_recall: 0.7941\n",
      "Epoch 3/10\n",
      "\u001b[1m179/179\u001b[0m \u001b[32m━━━━━━━━━━━━━━━━━━━━\u001b[0m\u001b[37m\u001b[0m \u001b[1m79s\u001b[0m 426ms/step - accuracy: 0.8193 - loss: 0.5358 - precision: 0.8732 - recall: 0.7399 - val_accuracy: 0.8268 - val_loss: 0.4553 - val_precision: 0.8547 - val_recall: 0.8032\n",
      "Epoch 4/10\n",
      "\u001b[1m179/179\u001b[0m \u001b[32m━━━━━━━━━━━━━━━━━━━━\u001b[0m\u001b[37m\u001b[0m \u001b[1m79s\u001b[0m 424ms/step - accuracy: 0.8547 - loss: 0.4596 - precision: 0.8860 - recall: 0.7983 - val_accuracy: 0.8162 - val_loss: 0.4597 - val_precision: 0.8423 - val_recall: 0.8024\n",
      "Epoch 5/10\n",
      "\u001b[1m179/179\u001b[0m \u001b[32m━━━━━━━━━━━━━━━━━━━━\u001b[0m\u001b[37m\u001b[0m \u001b[1m79s\u001b[0m 423ms/step - accuracy: 0.8628 - loss: 0.4310 - precision: 0.8929 - recall: 0.8279 - val_accuracy: 0.8802 - val_loss: 0.3373 - val_precision: 0.8934 - val_recall: 0.8696\n",
      "Epoch 6/10\n",
      "\u001b[1m179/179\u001b[0m \u001b[32m━━━━━━━━━━━━━━━━━━━━\u001b[0m\u001b[37m\u001b[0m \u001b[1m79s\u001b[0m 427ms/step - accuracy: 0.8953 - loss: 0.3421 - precision: 0.9138 - recall: 0.8655 - val_accuracy: 0.8772 - val_loss: 0.3365 - val_precision: 0.8911 - val_recall: 0.8673\n",
      "Epoch 7/10\n",
      "\u001b[1m179/179\u001b[0m \u001b[32m━━━━━━━━━━━━━━━━━━━━\u001b[0m\u001b[37m\u001b[0m \u001b[1m79s\u001b[0m 423ms/step - accuracy: 0.8888 - loss: 0.3432 - precision: 0.9086 - recall: 0.8681 - val_accuracy: 0.9024 - val_loss: 0.2979 - val_precision: 0.9103 - val_recall: 0.8978\n",
      "Epoch 8/10\n",
      "\u001b[1m179/179\u001b[0m \u001b[32m━━━━━━━━━━━━━━━━━━━━\u001b[0m\u001b[37m\u001b[0m \u001b[1m78s\u001b[0m 418ms/step - accuracy: 0.9020 - loss: 0.3231 - precision: 0.9174 - recall: 0.8826 - val_accuracy: 0.8879 - val_loss: 0.2981 - val_precision: 0.8989 - val_recall: 0.8749\n",
      "Epoch 9/10\n",
      "\u001b[1m179/179\u001b[0m \u001b[32m━━━━━━━━━━━━━━━━━━━━\u001b[0m\u001b[37m\u001b[0m \u001b[1m79s\u001b[0m 424ms/step - accuracy: 0.9090 - loss: 0.2949 - precision: 0.9235 - recall: 0.8894 - val_accuracy: 0.9146 - val_loss: 0.2373 - val_precision: 0.9230 - val_recall: 0.9054\n",
      "Epoch 10/10\n",
      "\u001b[1m179/179\u001b[0m \u001b[32m━━━━━━━━━━━━━━━━━━━━\u001b[0m\u001b[37m\u001b[0m \u001b[1m78s\u001b[0m 420ms/step - accuracy: 0.9149 - loss: 0.2896 - precision: 0.9305 - recall: 0.8911 - val_accuracy: 0.9054 - val_loss: 0.2345 - val_precision: 0.9148 - val_recall: 0.9008\n"
     ]
    },
    {
     "data": {
      "text/plain": [
       "<keras.src.callbacks.history.History at 0x7df5b42eef90>"
      ]
     },
     "execution_count": 3,
     "metadata": {},
     "output_type": "execute_result"
    }
   ],
   "source": [
    "import tensorflow as tf\n",
    "from tensorflow.keras import layers, Model\n",
    "from tensorflow.keras.applications import DenseNet121\n",
    "from tensorflow.keras.layers import Input, GlobalAveragePooling2D, Dense, Reshape, Dropout, BatchNormalization, GlobalAveragePooling1D, LayerNormalization, Add\n",
    "import numpy as np\n",
    "\n",
    "# Cyclical Learning Rate Scheduler (Fixed)\n",
    "class CyclicalLRScheduler(tf.keras.callbacks.Callback):\n",
    "    def __init__(self, base_lr, max_lr, step_size):\n",
    "        super(CyclicalLRScheduler, self).__init__()\n",
    "        self.base_lr = base_lr\n",
    "        self.max_lr = max_lr\n",
    "        self.step_size = step_size\n",
    "\n",
    "    def on_batch_begin(self, batch, logs=None):\n",
    "        cycle = np.floor(1 + batch / (2 * self.step_size))\n",
    "        x = np.abs(batch / self.step_size - 2 * cycle + 1)\n",
    "        lr = self.base_lr + (self.max_lr - self.base_lr) * max(0, (1 - x))\n",
    "        # Directly assign the new learning rate to the optimizer\n",
    "        self.model.optimizer.learning_rate.assign(lr)\n",
    "\n",
    "# Build Model\n",
    "input_layer = Input(shape=(224, 224, 3))\n",
    "base_model = DenseNet121(include_top=False, weights='imagenet', input_tensor=input_layer)\n",
    "base_model.trainable = True\n",
    "for layer in base_model.layers[:-20]:\n",
    "    layer.trainable = False\n",
    "x = base_model.output\n",
    "x = GlobalAveragePooling2D()(x)\n",
    "x_1 = Reshape((1, -1))(x)\n",
    "embed_dim = 512\n",
    "x_1 = Dense(embed_dim)(x_1)\n",
    "x_residual = x_1\n",
    "x_1 = LayerNormalization(epsilon=1e-6)(x_1)\n",
    "\n",
    "mha = layers.MultiHeadAttention(num_heads=8, key_dim=embed_dim // 8)\n",
    "x_att = mha(query=x_1, value=x_1, key=x_1)\n",
    "x_att = LayerNormalization(epsilon=1e-6)(x_att)\n",
    "x_att = Add()([x_att, x_residual])\n",
    "\n",
    "x_ffn = Dense(embed_dim, activation='relu')(x_att)\n",
    "x_ffn = Dense(embed_dim)(x_ffn)\n",
    "x_ffn = LayerNormalization(epsilon=1e-6)(x_ffn)\n",
    "x = Add()([x_att, x_ffn])\n",
    "x = GlobalAveragePooling1D()(x)\n",
    "x = Dropout(0.5)(x)\n",
    "x = BatchNormalization()(x)\n",
    "x = Dense(64, activation=\"relu\")(x)\n",
    "x = Dropout(0.5)(x)\n",
    "x = BatchNormalization()(x)\n",
    "x = Dense(32, activation=\"relu\")(x)\n",
    "output = Dense(4, activation='softmax')(x)\n",
    "\n",
    "model = Model(inputs=base_model.input, outputs=output)\n",
    "model.compile(\n",
    "    loss='categorical_crossentropy',\n",
    "    optimizer=tf.keras.optimizers.Adam(learning_rate=1e-5, clipnorm=1.0),\n",
    "    metrics=['accuracy', tf.keras.metrics.Precision(name='precision'), tf.keras.metrics.Recall(name='recall')]\n",
    ")\n",
    "\n",
    "early_stopping = tf.keras.callbacks.EarlyStopping(patience=8, monitor='val_loss', mode='min', restore_best_weights=True)\n",
    "cyclical_lr = CyclicalLRScheduler(base_lr=1e-6, max_lr=1e-4, step_size=200)\n",
    "model.fit(\n",
    "    train_gen, epochs=10, batch_size=32, validation_data=test_gen,\n",
    "    callbacks=[early_stopping, cyclical_lr]\n",
    ")"
   ]
  }
 ],
 "metadata": {
  "kaggle": {
   "accelerator": "gpu",
   "dataSources": [
    {
     "datasetId": 1608934,
     "sourceId": 2645886,
     "sourceType": "datasetVersion"
    }
   ],
   "dockerImageVersionId": 31011,
   "isGpuEnabled": true,
   "isInternetEnabled": true,
   "language": "python",
   "sourceType": "notebook"
  },
  "kernelspec": {
   "display_name": "Python 3",
   "language": "python",
   "name": "python3"
  },
  "language_info": {
   "codemirror_mode": {
    "name": "ipython",
    "version": 3
   },
   "file_extension": ".py",
   "mimetype": "text/x-python",
   "name": "python",
   "nbconvert_exporter": "python",
   "pygments_lexer": "ipython3",
   "version": "3.11.11"
  },
  "papermill": {
   "default_parameters": {},
   "duration": 941.55702,
   "end_time": "2025-05-05T21:11:32.078819",
   "environment_variables": {},
   "exception": null,
   "input_path": "__notebook__.ipynb",
   "output_path": "__notebook__.ipynb",
   "parameters": {},
   "start_time": "2025-05-05T20:55:50.521799",
   "version": "2.6.0"
  }
 },
 "nbformat": 4,
 "nbformat_minor": 5
}
